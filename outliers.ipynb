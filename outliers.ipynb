{
 "cells": [
  {
   "cell_type": "code",
   "execution_count": 1,
   "id": "5d7650ed",
   "metadata": {},
   "outputs": [],
   "source": [
    "import pandas as pd\n",
    "import numpy as np\n",
    "import seaborn as sns\n",
    "import matplotlib.pyplot as plt"
   ]
  },
  {
   "cell_type": "code",
   "execution_count": null,
   "id": "bf85a025",
   "metadata": {},
   "outputs": [
    {
     "data": {
      "text/html": [
       "<div>\n",
       "<style scoped>\n",
       "    .dataframe tbody tr th:only-of-type {\n",
       "        vertical-align: middle;\n",
       "    }\n",
       "\n",
       "    .dataframe tbody tr th {\n",
       "        vertical-align: top;\n",
       "    }\n",
       "\n",
       "    .dataframe thead th {\n",
       "        text-align: right;\n",
       "    }\n",
       "</style>\n",
       "<table border=\"1\" class=\"dataframe\">\n",
       "  <thead>\n",
       "    <tr style=\"text-align: right;\">\n",
       "      <th></th>\n",
       "      <th>age</th>\n",
       "    </tr>\n",
       "  </thead>\n",
       "  <tbody>\n",
       "    <tr>\n",
       "      <th>0</th>\n",
       "      <td>20</td>\n",
       "    </tr>\n",
       "    <tr>\n",
       "      <th>1</th>\n",
       "      <td>21</td>\n",
       "    </tr>\n",
       "    <tr>\n",
       "      <th>2</th>\n",
       "      <td>22</td>\n",
       "    </tr>\n",
       "    <tr>\n",
       "      <th>3</th>\n",
       "      <td>23</td>\n",
       "    </tr>\n",
       "    <tr>\n",
       "      <th>4</th>\n",
       "      <td>24</td>\n",
       "    </tr>\n",
       "    <tr>\n",
       "      <th>5</th>\n",
       "      <td>25</td>\n",
       "    </tr>\n",
       "    <tr>\n",
       "      <th>6</th>\n",
       "      <td>26</td>\n",
       "    </tr>\n",
       "    <tr>\n",
       "      <th>7</th>\n",
       "      <td>27</td>\n",
       "    </tr>\n",
       "    <tr>\n",
       "      <th>8</th>\n",
       "      <td>28</td>\n",
       "    </tr>\n",
       "    <tr>\n",
       "      <th>9</th>\n",
       "      <td>29</td>\n",
       "    </tr>\n",
       "    <tr>\n",
       "      <th>10</th>\n",
       "      <td>30</td>\n",
       "    </tr>\n",
       "    <tr>\n",
       "      <th>11</th>\n",
       "      <td>50</td>\n",
       "    </tr>\n",
       "  </tbody>\n",
       "</table>\n",
       "</div>"
      ],
      "text/plain": [
       "    age\n",
       "0    20\n",
       "1    21\n",
       "2    22\n",
       "3    23\n",
       "4    24\n",
       "5    25\n",
       "6    26\n",
       "7    27\n",
       "8    28\n",
       "9    29\n",
       "10   30\n",
       "11   50"
      ]
     },
     "execution_count": 45,
     "metadata": {},
     "output_type": "execute_result"
    }
   ],
   "source": [
    "data=pd.DataFrame({'age' :[20,21,22,23,24,25,26,27,28,29,30,50]})\n",
    "\n"
   ]
  },
  {
   "cell_type": "code",
   "execution_count": 46,
   "id": "e04d7c0d",
   "metadata": {},
   "outputs": [
    {
     "data": {
      "text/plain": [
       "<Axes: xlabel='age', ylabel='Count'>"
      ]
     },
     "execution_count": 46,
     "metadata": {},
     "output_type": "execute_result"
    },
    {
     "data": {
      "image/png": "[encoded data removed]",
      "text/plain": [
       "<Figure size 640x480 with 1 Axes>"
      ]
     },
     "metadata": {},
     "output_type": "display_data"
    }
   ],
   "source": [
    "sns.histplot(data['age'],bins=10,kde=True)"
   ]
  },
  {
   "cell_type": "code",
   "execution_count": 47,
   "id": "f2f5cd87",
   "metadata": {},
   "outputs": [],
   "source": [
    "data['mean']=np.mean(data['age'])\n",
    "data['std']=np.std(data['age'])\n",
    "data['z_score']=(data['age'] - data['mean'])/data['std']"
   ]
  },
  {
   "cell_type": "code",
   "execution_count": 48,
   "id": "1ae11672",
   "metadata": {},
   "outputs": [
    {
     "name": "stdout",
     "output_type": "stream",
     "text": [
      "-----------------------\n",
      "here is the z score'\n",
      "     age       mean       std   z_score\n",
      "0    20  27.083333  7.543853 -0.938954\n",
      "1    21  27.083333  7.543853 -0.806396\n",
      "2    22  27.083333  7.543853 -0.673838\n",
      "3    23  27.083333  7.543853 -0.541280\n",
      "4    24  27.083333  7.543853 -0.408721\n",
      "5    25  27.083333  7.543853 -0.276163\n",
      "6    26  27.083333  7.543853 -0.143605\n",
      "7    27  27.083333  7.543853 -0.011047\n",
      "8    28  27.083333  7.543853  0.121512\n",
      "9    29  27.083333  7.543853  0.254070\n",
      "10   30  27.083333  7.543853  0.386628\n",
      "11   50  27.083333  7.543853  3.037793\n",
      "-----------------------\n"
     ]
    }
   ],
   "source": [
    "print('-----------------------')\n",
    "print(f\"here is the z score'\\n {data}\")\n",
    "print('-----------------------')\n"
   ]
  },
  {
   "cell_type": "code",
   "execution_count": 49,
   "id": "927b20b2",
   "metadata": {},
   "outputs": [
    {
     "name": "stdout",
     "output_type": "stream",
     "text": [
      "here is outliers\n",
      "     age       mean       std   z_score\n",
      "11   50  27.083333  7.543853  3.037793\n"
     ]
    }
   ],
   "source": [
    "print(f\"here is outliers\\n {data[data['z_score']>3]}\")"
   ]
  },
  {
   "cell_type": "code",
   "execution_count": 50,
   "id": "c2d3a561",
   "metadata": {},
   "outputs": [
    {
     "name": "stdout",
     "output_type": "stream",
     "text": [
      "here data without outliers\n",
      "     age       mean       std   z_score\n",
      "0    20  27.083333  7.543853 -0.938954\n",
      "1    21  27.083333  7.543853 -0.806396\n",
      "2    22  27.083333  7.543853 -0.673838\n",
      "3    23  27.083333  7.543853 -0.541280\n",
      "4    24  27.083333  7.543853 -0.408721\n",
      "5    25  27.083333  7.543853 -0.276163\n",
      "6    26  27.083333  7.543853 -0.143605\n",
      "7    27  27.083333  7.543853 -0.011047\n",
      "8    28  27.083333  7.543853  0.121512\n",
      "9    29  27.083333  7.543853  0.254070\n",
      "10   30  27.083333  7.543853  0.386628\n"
     ]
    }
   ],
   "source": [
    "print(f\"here data without outliers\\n {data[data['z_score']<3]}\")"
   ]
  },
  {
   "cell_type": "code",
   "execution_count": null,
   "id": "d7ac934f",
   "metadata": {},
   "outputs": [],
   "source": [
    "from scipy import stats\n",
    "data=pd.DataFrame({'age':[20,21,22,23,24,25,26,27,28,29,30,110]})\n",
    "data['z-score'] =np.abs(stats.zscore(data['age']))\n"
   ]
  },
  {
   "cell_type": "code",
   "execution_count": null,
   "id": "dc7fb3af",
   "metadata": {},
   "outputs": [
    {
     "name": "stdout",
     "output_type": "stream",
     "text": [
      "Outliers based on z-score > 3:\n",
      "    age  z-score\n",
      "11  110  3.28942\n",
      "Data without outliers:\n",
      "    age   z-score\n",
      "0    20  0.510124\n",
      "1    21  0.467907\n",
      "2    22  0.425690\n",
      "3    23  0.383473\n",
      "4    24  0.341255\n",
      "5    25  0.299038\n",
      "6    26  0.256821\n",
      "7    27  0.214604\n",
      "8    28  0.172387\n",
      "9    29  0.130170\n",
      "10   30  0.087952\n"
     ]
    }
   ],
   "source": [
    "\n",
    "threshold = 3\n",
    "outliers= data[data['z-score'] > threshold]\n",
    "print(f\"Outliers based on z-score > {threshold}:\\n{outliers}\")\n",
    "data_no_outliers = data[data['z-score'] <= threshold]\n",
    "print(f\"Data without outliers:\\n{data_no_outliers}\")\n",
    "\n"
   ]
  }
 ],
 "metadata": {
  "kernelspec": {
   "display_name": "base",
   "language": "python",
   "name": "python3"
  },
  "language_info": {
   "codemirror_mode": {
    "name": "ipython",
    "version": 3
   },
   "file_extension": ".py",
   "mimetype": "text/x-python",
   "name": "python",
   "nbconvert_exporter": "python",
   "pygments_lexer": "ipython3",
   "version": "3.12.7"
  }
 },
 "nbformat": 4,
 "nbformat_minor": 5
}

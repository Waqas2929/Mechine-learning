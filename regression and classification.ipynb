{
 "cells": [
  {
   "cell_type": "code",
   "execution_count": 4,
   "id": "96228dd6",
   "metadata": {},
   "outputs": [
    {
     "name": "stdout",
     "output_type": "stream",
     "text": [
      "mean_squared_error: 1.036019442011377\n",
      "r2_score: 0.45661658635167657\n",
      "CPU times: total: 31.2 ms\n",
      "Wall time: 26.3 ms\n"
     ]
    }
   ],
   "source": [
    "%%time\n",
    "import  warnings\n",
    "warnings.filterwarnings('ignore')\n",
    "import pandas as pd\n",
    "import numpy as np\n",
    "import seaborn as sns\n",
    "from sklearn.linear_model import LinearRegression\n",
    "import matplotlib.pyplot as plt\n",
    "from sklearn.metrics import mean_squared_error, r2_score\n",
    "df=sns.load_dataset('tips')\n",
    "X= df[['total_bill']]\n",
    "y= df['tip']\n",
    "model= LinearRegression()\n",
    "model.fit(X, y)\n",
    "model.predict([[35.278]])\n",
    "# sns.lmplot(x='total_bill', y='tip', data=df)\n",
    "print(\"mean_squared_error:\", mean_squared_error(y, model.predict(X)))\n",
    "print(\"r2_score:\", r2_score(y, model.predict(X)))\n"
   ]
  },
  {
   "cell_type": "markdown",
   "id": "73837ff4",
   "metadata": {},
   "source": [
    "**Multiple Linear regression**"
   ]
  },
  {
   "cell_type": "code",
   "execution_count": 5,
   "id": "5613f3a6",
   "metadata": {},
   "outputs": [
    {
     "data": {
      "text/plain": [
       "array([4.51747922])"
      ]
     },
     "execution_count": 5,
     "metadata": {},
     "output_type": "execute_result"
    }
   ],
   "source": [
    "# Multiple Linear regression\n",
    "X= df[['total_bill', 'size']]\n",
    "y= df['tip']    \n",
    "model= LinearRegression()\n",
    "model.fit(X, y)\n",
    "model.predict([[35.278, 3]])\n"
   ]
  },
  {
   "cell_type": "code",
   "execution_count": 7,
   "id": "2f93e5fc",
   "metadata": {},
   "outputs": [
    {
     "name": "stdout",
     "output_type": "stream",
     "text": [
      "mean_squared_error: 1.0130220771877212\n",
      "r2_score: 0.4686785092230591\n"
     ]
    }
   ],
   "source": [
    "# Multiple Linear regression\n",
    "df['smoker_num'] = df['smoker'].map({'Yes': 1, 'No': 0})\n",
    "\n",
    "X= df[['total_bill', 'size','smoker_num']]\n",
    "y= df['tip']    \n",
    "model= LinearRegression()\n",
    "model.fit(X, y)\n",
    "model.predict([[35.278, 3, 1]])\n",
    "print(\"mean_squared_error:\", mean_squared_error(y, model.predict(X)))\n",
    "print(\"r2_score:\", r2_score(y, model.predict(X)))\n"
   ]
  },
  {
   "cell_type": "markdown",
   "id": "284d6b5f",
   "metadata": {},
   "source": [
    "**Logistic regression**"
   ]
  },
  {
   "cell_type": "code",
   "execution_count": 10,
   "id": "43c93f84",
   "metadata": {},
   "outputs": [
    {
     "data": {
      "text/plain": [
       "array(['No'], dtype=object)"
      ]
     },
     "execution_count": 10,
     "metadata": {},
     "output_type": "execute_result"
    }
   ],
   "source": [
    "#logistic regression\n",
    "from sklearn.linear_model import LogisticRegression\n",
    "df['smoker_num'] = df['smoker'].map({'Yes': 1, 'No': 0})\n",
    "X= df[['total_bill', 'size','tip']]\n",
    "y= df['smoker']    \n",
    "model= LogisticRegression()\n",
    "model.fit(X, y)\n",
    "model.predict([[35.278, 5, 4.22]])\n",
    "\n"
   ]
  },
  {
   "cell_type": "markdown",
   "id": "b0458e6c",
   "metadata": {},
   "source": [
    "**Gussian naive_bayes**"
   ]
  },
  {
   "cell_type": "code",
   "execution_count": 12,
   "id": "1f528805",
   "metadata": {},
   "outputs": [
    {
     "data": {
      "text/plain": [
       "array(['Yes'], dtype='<U3')"
      ]
     },
     "execution_count": 12,
     "metadata": {},
     "output_type": "execute_result"
    }
   ],
   "source": [
    "# GaussianNB algorithm\n",
    "from sklearn.naive_bayes import GaussianNB\n",
    "df['smoker_num'] = df['smoker'].map({'Yes': 1, 'No': 0})\n",
    "X= df[['total_bill', 'size','tip']]\n",
    "y= df['smoker']    \n",
    "model= GaussianNB()\n",
    "model.fit(X, y)\n",
    "model.predict([[50.278, 4, 4.22]])\n"
   ]
  },
  {
   "cell_type": "markdown",
   "id": "6f2563f5",
   "metadata": {},
   "source": [
    "**Regression Matrics**"
   ]
  },
  {
   "cell_type": "code",
   "execution_count": 14,
   "id": "2d4e6d51",
   "metadata": {},
   "outputs": [
    {
     "name": "stdout",
     "output_type": "stream",
     "text": [
      "Mean Squared Error: 0.6485996190543516\n",
      "R2-squared: 0.4811084097989492\n",
      "Mean Absolute Error: 0.6639235737596481\n",
      "Mean Absolute Percentage Error: 0.2797891748591026\n"
     ]
    }
   ],
   "source": [
    "# Multiple Linear regression\n",
    "from sklearn.model_selection import train_test_split\n",
    "X= df[['total_bill', 'size']]\n",
    "y= df['tip']    \n",
    "X_train, X_test, y_train, y_test = train_test_split(X, y, test_size=0.2, random_state=42)\n",
    "model= LinearRegression()\n",
    "model.fit(X_train, y_train)\n",
    "y_pred=model.predict(X_test)\n",
    "from sklearn.metrics import mean_squared_error, r2_score, mean_absolute_error, accuracy_score,mean_absolute_percentage_error\n",
    "print(\"Mean Squared Error:\", mean_squared_error(y_test, y_pred))\n",
    "print(\"R2-squared:\", r2_score(y_test, y_pred))\n",
    "print(\"Mean Absolute Error:\", mean_absolute_error(y_test, y_pred))\n",
    "print(\"Mean Absolute Percentage Error:\", mean_absolute_percentage_error(y_test, y_pred))\n"
   ]
  }
 ],
 "metadata": {
  "kernelspec": {
   "display_name": "base",
   "language": "python",
   "name": "python3"
  },
  "language_info": {
   "codemirror_mode": {
    "name": "ipython",
    "version": 3
   },
   "file_extension": ".py",
   "mimetype": "text/x-python",
   "name": "python",
   "nbconvert_exporter": "python",
   "pygments_lexer": "ipython3",
   "version": "3.12.7"
  }
 },
 "nbformat": 4,
 "nbformat_minor": 5
}
